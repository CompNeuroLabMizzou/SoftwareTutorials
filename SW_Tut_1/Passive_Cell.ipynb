{
 "cells": [
  {
   "cell_type": "markdown",
   "metadata": {
    "hideCode": true,
    "hidePrompt": true
   },
   "source": [
    "# Passive Cell Tutorial"
   ]
  },
  {
   "cell_type": "code",
   "execution_count": 27,
   "metadata": {
    "hideCode": true,
    "hidePrompt": true,
    "init_cell": true,
    "scrolled": false
   },
   "outputs": [
    {
     "data": {
      "application/vnd.jupyter.widget-view+json": {
       "model_id": "bc8416aa5a6848728b487c20dd7657d8"
      }
     },
     "metadata": {},
     "output_type": "display_data"
    },
    {
     "data": {
      "application/vnd.jupyter.widget-view+json": {
       "model_id": "6a416429f1de4d0da5c39834692eb447"
      }
     },
     "metadata": {},
     "output_type": "display_data"
    }
   ],
   "source": [
    "# Import necessary libraries\n",
    "from IPython.display import display, clear_output\n",
    "from ipywidgets import Layout, Button, Box, FloatText, Textarea, Dropdown, Label, IntSlider, HBox\n",
    "import Passive_Main\n",
    "\n",
    "# Create input text boxes and buttons for users\n",
    "gna_hh = FloatText(value=0, layout=Layout(width='100px'))\n",
    "gk_hh = FloatText(value=0, layout=Layout(width='100px'))\n",
    "gl_hh = FloatText(value=2.0e-5, layout=Layout(width='100px'))\n",
    "cur_inj = FloatText(value=1, layout=Layout(width='100px'))\n",
    "run_button = Button(description=\"Run Model\", button_style='info')\n",
    "clear_button = Button(description=\"Clear Output\", button_style='warning')\n",
    "\n",
    "# Use a form to hold the Labels and Input Boxes \n",
    "form_items = [\n",
    "    Box([Label(value='Leak Channel (gl_hh)', layout=Layout(width='195px')), gl_hh]),\n",
    "    Box([Label(value='Sodium Channel (gnabar_hh)', layout=Layout(width='195px')), gna_hh]),\n",
    "    Box([Label(value='Potassium Channel (gkbar_hh)', layout=Layout(width='195px')), gk_hh]),\n",
    "    Box([Label(value='Current Injection Amplitude (nA)', layout=Layout(width='195px')), cur_inj]),\n",
    "]\n",
    "\n",
    "# Define the parameters of the form_items\n",
    "form = Box(form_items, layout=Layout(\n",
    "    display='flex',\n",
    "    flex_flow='column',\n",
    "    align_items='initial',\n",
    "    width='295px'\n",
    "))\n",
    "# Display form and buttons\n",
    "display(form, HBox([run_button, clear_button]))\n",
    "\n",
    "# Define functions that run when the user clicks a button\n",
    "def run_button_clicked(b):\n",
    "    print \"Simulation Complete. Values used for gl_hh: {0}, gnabar_hh: {1}, gkbar_hh: {2}, and cur_inj_amp: {3}\".format(gl_hh.value, gna_hh.value, gk_hh.value, cur_inj.value)\n",
    "    Passive_Main.run_simulation(gl_hh.value, gna_hh.value, gk_hh.value, cur_inj.value)\n",
    "\n",
    "def clear_button_clicked(b):\n",
    "    clear_output()\n",
    "\n",
    "run_button.on_click(run_button_clicked)\n",
    "clear_button.on_click(clear_button_clicked)"
   ]
  }
 ],
 "metadata": {
  "celltoolbar": "Initialization Cell",
  "hide_code_all_hidden": true,
  "kernelspec": {
   "display_name": "Python 2",
   "language": "python",
   "name": "python2"
  },
  "language_info": {
   "codemirror_mode": {
    "name": "ipython",
    "version": 2
   },
   "file_extension": ".py",
   "mimetype": "text/x-python",
   "name": "python",
   "nbconvert_exporter": "python",
   "pygments_lexer": "ipython2",
   "version": "2.7.13"
  },
  "widgets": {
   "state": {
    "4becc64b305543c0958738005bd7d874": {
     "views": [
      {
       "cell_index": 1
      }
     ]
    },
    "67859f8ccee44ffa9ebd0e8a82c2797b": {
     "views": [
      {
       "cell_index": 1
      }
     ]
    }
   },
   "version": "1.2.0"
  }
 },
 "nbformat": 4,
 "nbformat_minor": 2
}
