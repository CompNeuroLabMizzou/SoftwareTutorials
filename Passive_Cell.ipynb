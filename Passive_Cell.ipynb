{
 "cells": [
  {
   "cell_type": "code",
   "execution_count": 26,
   "metadata": {
    "collapsed": false,
    "scrolled": true
   },
   "outputs": [],
   "source": [
    "from neuron import h\n",
    "h.load_file('stdrun.hoc')\n",
    "from IPython.display import display\n",
    "from ipywidgets import Button, Text, HBox, Label\n",
    "from matplotlib import pyplot\n",
    "\n",
    "\n",
    "\n",
    "#Create the soma section and define the default parameters\n",
    "soma = h.Section(name='soma')\n",
    "soma.nseg = 1\n",
    "soma.diam = 200\n",
    "soma.L = 100\n",
    "soma.cm = 1.4884e-4/6.2832e-4\n",
    "\n",
    "#Insert the Hodgkin-Huxley channels and define the conductances\n",
    "soma.insert('hh')\n",
    "soma.gnabar_hh = 0\n",
    "soma.gkbar_hh = 0\n",
    "soma.gl_hh = 2.0e-5\n",
    "soma.el_hh = -70\n",
    "\n",
    "v_init = h.v_init= -60\n",
    "\n",
    "#Inject current in the middle of the soma\n",
    "stim = h.IClamp(0.5)\n",
    "stim.delay = 100\n",
    "stim.dur = 500\n",
    "stim.amp = 1\n",
    "\n",
    "tstop = h.tstop = 800   #ms\n",
    "\n",
    "#++++++++++++++++++++++++++++++++++++++++++++++++++++++++++#\n",
    "#Record Results  \n",
    "h.dt = 0.025\n",
    "\n",
    "v0_vec = h.Vector()\n",
    "t_vec = h.Vector()\n",
    "\n",
    "v0_vec.record(soma(0.5)._ref_v)\n",
    "t_vec.record(h._ref_t)\n",
    "\n",
    "gna_label = Label(value='Sodium Channel (gnabar_hh):')\n",
    "gna = Text(value='0')\n",
    "box1 = HBox([gna_label , gna])\n",
    "display(box1)\n",
    "\n",
    "gk_label = Label(value='Potassium Channel (gnabar_hh):')\n",
    "gk = Text(value='0')\n",
    "box2 = HBox([gk_label , gk])\n",
    "display(box2)\n",
    "\n",
    "button = Button(description=\"Run Model\", icon='check')\n",
    "display(button)\n",
    "\n",
    "def on_button_clicked(b):\n",
    "    #clear_output()\n",
    "    # Update parameters from input boxes\n",
    "    soma.gnabar_hh = float(gna.value)\n",
    "    soma.gkbar_hh = float(gk.value)\n",
    "    # Run simulation\n",
    "    \n",
    "    h.run()\n",
    "    #Visualize Results\n",
    "    pyplot.figure()\n",
    "    pyplot.plot(t_vec, v0_vec,'b')\n",
    "    pyplot.xlim(0, 800)\n",
    "    pyplot.xlabel('time (ms)')\n",
    "    pyplot.ylabel('mV')\n",
    "\n",
    "    pyplot.show()\n",
    "    \n",
    "button.on_click(on_button_clicked)"
   ]
  }
 ],
 "metadata": {
  "kernelspec": {
   "display_name": "Python 2",
   "language": "python",
   "name": "python2"
  },
  "language_info": {
   "codemirror_mode": {
    "name": "ipython",
    "version": 2
   },
   "file_extension": ".py",
   "mimetype": "text/x-python",
   "name": "python",
   "nbconvert_exporter": "python",
   "pygments_lexer": "ipython2",
   "version": "2.7.13"
  },
  "widgets": {
   "state": {
    "03347938a7d7452ab047688b5b0e08e1": {
     "views": [
      {
       "cell_index": 0
      }
     ]
    },
    "30b460a49f87415aa4ff9c6d6bc53a1b": {
     "views": [
      {
       "cell_index": 0
      }
     ]
    },
    "58ad41409a7943399a4d6ff486960b1c": {
     "views": [
      {
       "cell_index": 0
      }
     ]
    },
    "61bdeaa12d614bd9a8ec1ca133c50b4f": {
     "views": [
      {
       "cell_index": 0
      }
     ]
    },
    "89ebf6bcb06f4435ba7aeb81e2f9185a": {
     "views": [
      {
       "cell_index": 0
      }
     ]
    },
    "91be3b1af135446f8306eed7fbbfeb7b": {
     "views": [
      {
       "cell_index": 0
      }
     ]
    },
    "dda6126eaa60408ba2856e045387bf4e": {
     "views": [
      {
       "cell_index": 0
      }
     ]
    },
    "e4b8a84030fc42bea278f64ae2628dc1": {
     "views": [
      {
       "cell_index": 0
      }
     ]
    },
    "e630daa4e2d84b88a463918e4cceda45": {
     "views": [
      {
       "cell_index": 0
      }
     ]
    },
    "f7567789204e48108eb214530e589cd1": {
     "views": [
      {
       "cell_index": 0
      }
     ]
    },
    "fc95257fb6e342c38fd72328cb128b57": {
     "views": [
      {
       "cell_index": 0
      }
     ]
    },
    "fcb1a9abd88d474cb2c85fa8f41d1452": {
     "views": [
      {
       "cell_index": 0
      }
     ]
    }
   },
   "version": "1.2.0"
  }
 },
 "nbformat": 4,
 "nbformat_minor": 2
}
