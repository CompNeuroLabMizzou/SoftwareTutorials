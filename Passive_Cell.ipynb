{
 "cells": [
  {
   "cell_type": "code",
   "execution_count": 28,
   "metadata": {
    "collapsed": false
   },
   "outputs": [
    {
     "name": "stdout",
     "output_type": "stream",
     "text": [
      "Running Passive Cell Tutorial\n",
      "Creating the soma...\n",
      "Inserting Hodgkin-Huxley Channels and defining conductances...\n",
      "Create current injection in the middle of the soma...\n",
      "Record the results...\n",
      "Running Program...\n",
      "Showing Graph...\n"
     ]
    },
    {
     "data": {
      "image/png": "[encoded data removed]",
      "text/plain": [
       "<matplotlib.figure.Figure at 0xccfd470>"
      ]
     },
     "metadata": {},
     "output_type": "display_data"
    },
    {
     "name": "stdout",
     "output_type": "stream",
     "text": [
      "Program Complete...\n"
     ]
    }
   ],
   "source": [
    "# Import necessary libraries\n",
    "from neuron import h\n",
    "h.load_file(\"stdrun.hoc\")\n",
    "from IPython.display import display, clear_output\n",
    "from ipywidgets import Layout, Button, Box, FloatText, Textarea, Dropdown, Label, IntSlider\n",
    "\n",
    "gna = FloatText(value=0)\n",
    "gk = FloatText(value=0)\n",
    "\n",
    "form_item_layout = Layout(\n",
    "    display='flex',\n",
    "    flex_flow='row',\n",
    "    justify_content='space-between'\n",
    ")\n",
    "\n",
    "form_items = [\n",
    "    Box([Label(value='Sodium Channel (gnabar_hh)'), \n",
    "         gna], layout=form_item_layout),\n",
    "    Box([Label(value='Potassium Channel (gkbar_hh)'), \n",
    "         gk], layout=form_item_layout),\n",
    "]\n",
    "\n",
    "form = Box(form_items, layout=Layout(\n",
    "    display='flex',\n",
    "    flex_flow='column',\n",
    "    # border='solid 2px',\n",
    "    align_items='stretch',\n",
    "    width='55%'\n",
    "))\n",
    "display(form)\n",
    "\n",
    "button = widgets.Button(description=\"Run Model\")\n",
    "display(button)\n",
    "\n",
    "def on_button_clicked(b):\n",
    "    clear_output()\n",
    "    print \"Running Passive Cell Tutorial\"\n",
    "    print \"Creating the soma...\"\n",
    "    #Create the soma section and define the default parameters\n",
    "    soma = h.Section(name='soma')\n",
    "    soma.nseg = 1\n",
    "    soma.diam = 200\n",
    "    soma.L = 100\n",
    "    soma.cm = 1.4884e-4/6.2832e-4\n",
    "\n",
    "    print \"Inserting Hodgkin-Huxley Channels and defining conductances...\"\n",
    "    #Insert the Hodgkin-Huxley channels and define the conductances\n",
    "    soma.insert('hh')\n",
    "    soma.gnabar_hh = float(gna.value)\n",
    "    soma.gkbar_hh = float(gk.value)\n",
    "    soma.gl_hh = 2.0e-5\n",
    "    soma.el_hh = -70\n",
    "\n",
    "    #v_init = h.v_init= -60\n",
    "\n",
    "    print \"Create current injection in the middle of the soma...\"\n",
    "    #Inject current in the middle of the soma\n",
    "    stim = h.IClamp(0.5)\n",
    "    stim.delay = 100\n",
    "    stim.dur = 500\n",
    "    stim.amp = 1\n",
    "\n",
    "    tstop = h.tstop = 800   #ms\n",
    "\n",
    "    #++++++++++++++++++++++++++++++++++++++++++++++++++++++++++#\n",
    "    print \"Record the results...\"\n",
    "    #Record Results  \n",
    "    h.dt = 0.025\n",
    "\n",
    "    v0_vec = h.Vector()\n",
    "    t_vec = h.Vector()\n",
    "\n",
    "    v0_vec.record(soma(0.5)._ref_v)\n",
    "    t_vec.record(h._ref_t)\n",
    "\n",
    "    print \"Running Program...\"\n",
    "    h.run()\n",
    "\n",
    "    print \"Showing Graph...\"\n",
    "    #Visualize Results\n",
    "    from matplotlib import pyplot\n",
    "    pyplot.figure()\n",
    "    pyplot.plot(t_vec, v0_vec,'b')\n",
    "    pyplot.xlim(0, 800)\n",
    "    pyplot.xlabel('time (ms)')\n",
    "    pyplot.ylabel('mV')\n",
    "    pyplot.show()\n",
    "\n",
    "    print \"Program Complete...\"\n",
    "\n",
    "button.on_click(on_button_clicked)"
   ]
  },
  {
   "cell_type": "code",
   "execution_count": 29,
   "metadata": {
    "collapsed": false
   },
   "outputs": [
    {
     "data": {
      "text/html": [
       "<script>jQuery(function() {if (jQuery(\"body.notebook_app\").length == 0) { jQuery(\".input_area\").toggle(); jQuery(\".prompt\").toggle();}});</script>"
      ]
     },
     "metadata": {},
     "output_type": "display_data"
    },
    {
     "data": {
      "text/html": [
       "<button onclick=\"jQuery('.input_area').toggle(); jQuery('.prompt').toggle();\">Toggle code</button>"
      ]
     },
     "metadata": {},
     "output_type": "display_data"
    }
   ],
   "source": [
    "# Hide Code Initially and then show if user would like to see\n",
    "from IPython.display import display\n",
    "from IPython.display import HTML\n",
    "import IPython.core.display as di # Example: di.display_html('<h3>%s:</h3>' % str, raw=True)\n",
    "\n",
    "# This line will hide code by default when the notebook is exported as HTML\n",
    "di.display_html('<script>jQuery(function() {if (jQuery(\"body.notebook_app\").length == 0) { jQuery(\".input_area\").toggle(); jQuery(\".prompt\").toggle();}});</script>', raw=True)\n",
    "\n",
    "# This line will add a button to toggle visibility of code blocks, for use with the HTML export version\n",
    "di.display_html('''<button onclick=\"jQuery('.input_area').toggle(); jQuery('.prompt').toggle();\">Toggle code</button>''', raw=True)"
   ]
  },
  {
   "cell_type": "code",
   "execution_count": null,
   "metadata": {
    "collapsed": true
   },
   "outputs": [],
   "source": []
  }
 ],
 "metadata": {
  "celltoolbar": "Edit Metadata",
  "kernelspec": {
   "display_name": "Python 2",
   "language": "python",
   "name": "python2"
  },
  "language_info": {
   "codemirror_mode": {
    "name": "ipython",
    "version": 2
   },
   "file_extension": ".py",
   "mimetype": "text/x-python",
   "name": "python",
   "nbconvert_exporter": "python",
   "pygments_lexer": "ipython2",
   "version": "2.7.13"
  },
  "widgets": {
   "state": {
    "05bd66cd73bb4849b9c4ab654d62d23c": {
     "views": [
      {
       "cell_index": 2
      }
     ]
    },
    "0d400d84327c4d6ca7d90aeddb92ef08": {
     "views": [
      {
       "cell_index": 0
      }
     ]
    },
    "33b09ebba5e24da1ba10d53cd39ee1db": {
     "views": [
      {
       "cell_index": 2
      }
     ]
    },
    "485a9a8a18b744b580f56f7227de3c20": {
     "views": [
      {
       "cell_index": 2
      }
     ]
    },
    "677569648cc342b68a25de9b27d8c94d": {
     "views": [
      {
       "cell_index": 2
      }
     ]
    },
    "854d91178ed9402e97953735a92d1231": {
     "views": [
      {
       "cell_index": 0
      }
     ]
    },
    "d1b65a4edc5c491db107d1bba33a8802": {
     "views": [
      {
       "cell_index": 2
      }
     ]
    },
    "dae72e992b7540068cac06f521e9936f": {
     "views": [
      {
       "cell_index": 2
      }
     ]
    },
    "e9b28faae2b04ffa8462e0151a0a4372": {
     "views": [
      {
       "cell_index": 2
      }
     ]
    }
   },
   "version": "1.2.0"
  }
 },
 "nbformat": 4,
 "nbformat_minor": 2
}
