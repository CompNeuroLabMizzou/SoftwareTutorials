{
 "cells": [
  {
   "cell_type": "markdown",
   "metadata": {
    "hideCode": true,
    "hidePrompt": true
   },
   "source": [
    "# Action Potential Tutorial"
   ]
  },
  {
   "cell_type": "code",
   "execution_count": 1,
   "metadata": {
    "hideCode": true,
    "hidePrompt": true,
    "init_cell": true,
    "scrolled": false
   },
   "outputs": [],
   "source": [
    "# Import necessary libraries\n",
    "from IPython.display import display, clear_output\n",
    "from ipywidgets import Layout, Button, Box, FloatText, Textarea, Dropdown, Label, IntSlider, Text, VBox, HBox\n",
    "import AP_Main\n",
    "\n",
    "toggle_flag = 0\n",
    "\n",
    "# Create input text boxes and buttons for users\n",
    "cur_amp = FloatText(value=100, layout=Layout(width='100px'))\n",
    "cur_dur = FloatText(value=40, layout=Layout(width='100px'))\n",
    "cur_del = FloatText(value=5, layout=Layout(width='100px'))\n",
    "voltage = FloatText(value=-10, layout=Layout(width='100px'))\n",
    "active_clamp = Text(value='Current Clamp', layout=Layout(width='105px'))\n",
    "na_active = Text(value='Na Active', layout=Layout(width='100px'))\n",
    "k_active = Text(value='K Active', layout=Layout(width='100px'))\n",
    "\n",
    "block_na = Button(description=\"Block Na Channel\")\n",
    "unblock_na = Button(description=\"Unblock Na Channel\")\n",
    "block_k = Button(description=\"Block K Channel\")\n",
    "unblock_k = Button(description=\"Unblock K Channel\")\n",
    "toggle_iv = Button(description=\"Toggle IClamp/VClamp\")\n",
    "init_reset = Button(description=\"Reset to Initial Values\")\n",
    "run_button = Button(description=\"Run Model\", button_style='info')\n",
    "clear_button = Button(description=\"Clear Output\", button_style='warning')\n",
    "\n",
    "# Use a form to hold the Labels and Input Boxes \n",
    "form_items = [\n",
    "    Box([Label(value='------------------------------------------------------------', layout=Layout(width='100%',height='18px'))]),\n",
    "    Box([Label(value='Currently Active', layout=Layout(width='12%')), active_clamp]),\n",
    "    Box([Label(value='-------------------------------------------------', layout=Layout(width='28%',height='18px')),Label(value='-------------------------------------------------', layout=Layout(width='27%',height='18px'))]),\n",
    "    Box([Label(value='Current Clamp Settings', layout=Layout(width='28%')), Label(value='Voltage Clamp Settings', layout=Layout(width='27%'))]),\n",
    "    Box([Label(value='-------------------------------------------------', layout=Layout(width='27%',height='18px')),Label(value='-------------------------------------------------', layout=Layout(width='27%',height='18px'))]),\n",
    "    Box([Label(value='Amplitude (nA)', layout=Layout(width='12%')), cur_amp, Label(value=' ', layout=Layout(width='3%')), Label(value='Amplitude (mV)', layout=Layout(width='12%', height='20px')), voltage]),\n",
    "    Box([Label(value='Duration (ms)', layout=Layout(width='12%')), cur_dur]),\n",
    "    Box([Label(value='Delay (ms)', layout=Layout(width='12%')), cur_del]),\n",
    "]\n",
    "\n",
    "# Define the parameters of the form_items\n",
    "form = Box(form_items,layout=Layout(\n",
    "    display='flex',\n",
    "    flex_flow='column',\n",
    "    align_items='initial',\n",
    "    width='80%'\n",
    "))\n",
    "\n",
    "# Display all buttons and form\n",
    "display(HBox([block_na, unblock_na, na_active]), HBox([block_k, unblock_k, k_active]), HBox([toggle_iv, init_reset]), form, HBox([run_button, clear_button]))\n",
    "\n",
    "# Define functions that run when the user clicks a button\n",
    "def run_clicked(b):\n",
    "    if toggle_flag == 0:\n",
    "        print \"Simulation Complete. Values used for cur_amp: {0}, cur_dur: {1}, and cur_del: {2}\".format(cur_amp.value, cur_dur.value, cur_del.value)\n",
    "    else:\n",
    "        print \"Simulation Complete. Values used for voltage was: {0}\".format(voltage.value)\n",
    "    AP_Main.edit_config(cur_amp.value, cur_dur.value, cur_del.value, voltage.value, toggle_flag)\n",
    "    AP_Main.run_simulation()\n",
    "\n",
    "def clear_clicked(b):\n",
    "    clear_output()\n",
    "    \n",
    "def init_reset_clicked(b):\n",
    "    cur_amp.value = 100\n",
    "    cur_dur.value = 40\n",
    "    cur_del.value = 5\n",
    "    voltage.value = -10\n",
    "    AP_Main.init_val_reset()\n",
    "\n",
    "def blk_na_clicked(b):\n",
    "    na_active.value = 'Na Blocked'\n",
    "    AP_Main.block_na_channel()\n",
    "\n",
    "def unblk_na_clicked(b):\n",
    "    na_active.value = 'Na Active'\n",
    "    AP_Main.unblock_na_channel()\n",
    "\n",
    "def blk_k_clicked(b):\n",
    "    k_active.value = 'K Blocked'\n",
    "    AP_Main.block_k_channel()\n",
    "\n",
    "def unblk_k_clicked(b):\n",
    "    k_active.value = 'K Active'\n",
    "    AP_Main.unblock_k_channel()\n",
    "\n",
    "def toggle_iv_clicked(b):\n",
    "    global toggle_flag\n",
    "    if toggle_flag == 0:\n",
    "        active_clamp.value = 'Voltage Clamp'\n",
    "        toggle_flag = 1\n",
    "    else:\n",
    "        active_clamp.value = 'Current Clamp'\n",
    "        toggle_flag = 0\n",
    "    \n",
    "block_na.on_click(blk_na_clicked)\n",
    "unblock_na.on_click(unblk_na_clicked)\n",
    "block_k.on_click(blk_k_clicked)\n",
    "unblock_k.on_click(unblk_k_clicked)\n",
    "toggle_iv.on_click(toggle_iv_clicked)\n",
    "init_reset.on_click(init_reset_clicked)\n",
    "run_button.on_click(run_clicked)\n",
    "clear_button.on_click(clear_clicked)"
   ]
  }
 ],
 "metadata": {
  "celltoolbar": "Initialization Cell",
  "hide_code_all_hidden": true,
  "kernelspec": {
   "display_name": "Python 2",
   "language": "python",
   "name": "python2"
  },
  "language_info": {
   "codemirror_mode": {
    "name": "ipython",
    "version": 2
   },
   "file_extension": ".py",
   "mimetype": "text/x-python",
   "name": "python",
   "nbconvert_exporter": "python",
   "pygments_lexer": "ipython2",
   "version": "2.7.13"
  },
  "widgets": {
   "state": {
    "0246b50545bd4f74ac84f5225a016491": {
     "views": [
      {
       "cell_index": 1
      }
     ]
    },
    "030c49d89abf41f7ae8d8ebda6fd2ea6": {
     "views": [
      {
       "cell_index": 1
      }
     ]
    },
    "0371aa4340d44697abcf25f4cdd92587": {
     "views": [
      {
       "cell_index": 1
      }
     ]
    },
    "17fd9d0575904efea6b7b0cc0fe49e60": {
     "views": [
      {
       "cell_index": 1
      }
     ]
    },
    "18f8aca3f3314d24a8fd05f0a623e5f0": {
     "views": [
      {
       "cell_index": 1
      }
     ]
    },
    "1a042eb13d664511a4b1a366157b4f11": {
     "views": [
      {
       "cell_index": 1
      }
     ]
    },
    "1a9cea6bf900441d87e3685f4c933c42": {
     "views": [
      {
       "cell_index": 1
      }
     ]
    },
    "29abb1d25d104611b1f656a4af697258": {
     "views": [
      {
       "cell_index": 1
      }
     ]
    },
    "3608399cf62e4745bad5a6e06dbfa16f": {
     "views": [
      {
       "cell_index": 1
      }
     ]
    },
    "573f696b210e43619dd88e03a33dc9e7": {
     "views": [
      {
       "cell_index": 1
      }
     ]
    },
    "586ea1d969c0468ca70a3d58da246df5": {
     "views": [
      {
       "cell_index": 1
      }
     ]
    },
    "5d1207dcc513477a89c057474575379e": {
     "views": [
      {
       "cell_index": 1
      }
     ]
    },
    "6ad1a8c3b8614c0194e87872a422a667": {
     "views": [
      {
       "cell_index": 1
      }
     ]
    },
    "99fefd2ee45f43efb3085f29b89a9fc5": {
     "views": [
      {
       "cell_index": 1
      }
     ]
    },
    "9ba33ea492e84091bcfc1cb6dd6ccf88": {
     "views": [
      {
       "cell_index": 1
      }
     ]
    },
    "a12ab46b822a42bcb8d81e4fe56fa3f7": {
     "views": [
      {
       "cell_index": 1
      }
     ]
    },
    "a49d9b9efc2a42c4bdbd3cf2394c7e40": {
     "views": [
      {
       "cell_index": 1
      }
     ]
    },
    "aa345b77598f40049b07ca5deda85505": {
     "views": [
      {
       "cell_index": 1
      }
     ]
    },
    "acb6995db28f4dc7a8df88bd7dd2b1ea": {
     "views": [
      {
       "cell_index": 1
      }
     ]
    },
    "bd2f2fb1812c4c7b93e541752139a199": {
     "views": [
      {
       "cell_index": 1
      }
     ]
    },
    "c4f987da6aac4a9898bc1b688444f675": {
     "views": [
      {
       "cell_index": 1
      }
     ]
    },
    "c8db4130804e459a8c498b9a2f6f9319": {
     "views": [
      {
       "cell_index": 1
      }
     ]
    },
    "d05cdc3aca3c41ccb25e142fc7c13ef9": {
     "views": [
      {
       "cell_index": 1
      }
     ]
    },
    "e1e820573f14437bbbcd419fd72db40e": {
     "views": [
      {
       "cell_index": 1
      }
     ]
    },
    "f66398ac14b24257a18c5a9d1693d7a3": {
     "views": [
      {
       "cell_index": 1
      }
     ]
    },
    "f81e72a78790498dbe61747f5ed37409": {
     "views": [
      {
       "cell_index": 1
      }
     ]
    }
   },
   "version": "1.2.0"
  }
 },
 "nbformat": 4,
 "nbformat_minor": 2
}
